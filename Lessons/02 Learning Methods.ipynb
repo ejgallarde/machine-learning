{
 "cells": [
  {
   "cell_type": "markdown",
   "metadata": {
    "id": "iG1W3fx9y_wW"
   },
   "source": [
    "# Learning Methods for ML"
   ]
  },
  {
   "cell_type": "markdown",
   "metadata": {
    "id": "xYY7-3k8zCHB"
   },
   "source": [
    "## Techniques"
   ]
  },
  {
   "cell_type": "markdown",
   "metadata": {
    "id": "jDu_hJsMzInN"
   },
   "source": [
    "> Machine learning uses a variety of learning algorithms for feature selection. All tactics have benefits and drawbacks, but the most important factor in identifying the optimal approach for a specific scenario is to assess the input data and establish the goals. Throughout the chapter, several approaches will be briefly defined.\n"
   ]
  },
  {
   "cell_type": "markdown",
   "metadata": {
    "id": "TpcMQE0dzMKu"
   },
   "source": [
    "## Supervised Machine Learning"
   ]
  },
  {
   "cell_type": "markdown",
   "metadata": {
    "id": "AAyMA01hzPje"
   },
   "source": [
    "> When the value of the outcome, also known as its \"label\" in machine learning, is known for each observation, supervised learning is used. The term \"labeled data\" refers to data with defined outcome values. Common supervised learning approaches include linear and logistic regression, as well as several of the most prominent machine learning algorithms.\n",
    "\n",
    "Supervised learning is a machine learning method distinguished by the use of **labeled datasets**. These datasets are intended to train or \"supervise\" computers in properly identifying data or forecasting outcomes. The model may test its **accuracy** and learn over time by using labeled inputs and outputs.\n",
    "\n",
    "As input data is fed into the model, the **weights** are adjusted until the model is well fitted, which occurs as part of the **cross-validation** process. Supervised learning assists businesses in solving a wide range of real-world issues on a large scale, such as filtering spam in a distinct folder from your email.\n",
    "\n",
    "When it comes to **data mining**, supervised learning may be divided into two sorts of problems: **classification** and **regression**: Supervised feature selection is frequently used for classification problems, and takes advantage of the feature's relevance or association as well as the class label as its leading principle.\n",
    "\n",
    "The significance of relevance measurements can be used to evaluate the features. A training set is used in supervised learning to train models to produce the desired **output**. This **training** dataset contains both right and wrong outputs, allowing the model to learn over time. The algorithm evaluates its accuracy using the **loss function** and adjusts until the error is sufficiently reduced.\n",
    "\n",
    "Although supervised learning may provide organizations with benefits such as deep data insights and enhanced automation, there are certain challenges to constructing long-term supervised learning models. Some of these difficulties are as follows:\n",
    "\n",
    "* Structured, supervised learning methods may require a certain amount of competence.\n",
    "* Training supervised learning models may be time consuming.\n",
    "* Datasets may be more prone to human error, resulting in computers learning erroneously.\n",
    "* Unlike unsupervised learning models, supervised learning does not have the ability to cluster or classify data on its own.\n",
    "\n",
    "As previously stated, there are two primary types of supervised learning:\n",
    "\n",
    "* **Classification** issues employ an algorithm to properly categorize test data, such as distinguishing apples from oranges. In the real world, supervised learning algorithms may be used to isolate spam from your email in a distinct folder. Classification methods include linear classifiers, support vector machines, decision trees, and random forests.\n",
    "\n",
    "* Another sort of supervised learning approach is **regression**, which employs an algorithm to determine the connection between dependent and independent variables. Regression models are useful for forecasting numerical values based on several data sources, such as sales revenue estimates for a certain organization. Linear regression, logistic regression, and polynomial regression are some prominent regression techniques.\n"
   ]
  },
  {
   "cell_type": "markdown",
   "metadata": {
    "id": "ri1c-TVmzvwG"
   },
   "source": [
    "## Unsupervised Machine Learning"
   ]
  },
  {
   "cell_type": "markdown",
   "metadata": {
    "id": "WhYaUGYIz4xw"
   },
   "source": [
    "\n",
    "> Unsupervised learning employs **machine learning** approaches to examine and cluster unlabeled data sets. The word \"unsupervised\" refers to algorithms that uncover hidden patterns in data without requiring human intervention.\n",
    "\n",
    "This learning approach identifies data point similarity or detects hidden correlations between variables by uncovering the underlying pattern in the dataset that is not explicitly stated. Unsupervised learning models investigate the intrinsic structure of unlabeled data on their own. It should be emphasized that some human contact is still required to check the output variables.\n",
    "\n",
    "The main purpose of this method is to extract insights from large volumes of data, while the algorithm decides what differs from the dataset. As a result, some possible applications for this learning include anomaly detection, recommendation engines, customer personas, medical imaging, and many more.\n",
    "\n",
    "In terms of drawbacks, specialized tools are necessary for working with large amounts of unclassified data in unsupervised learning. Unsupervised learning models are computationally difficult to implement because they need a large training set to achieve the desired results.\n",
    "\n",
    "Furthermore, unless the output variables are checked by humans, unsupervised learning algorithms might provide wildly inaccurate results. Three key tasks are performed by unsupervised learning models:\n",
    "\n",
    "* **Clustering** is a data mining technique that organizes unlabeled data into groups based on similarities or differences. K-means clustering methods, for example, split linked data points into groups, with the K number defining the size and granularity of the grouping. This method is beneficial for market segmentation, image compression, and other applications\n",
    "* **Association**, which uses a set of criteria to identify relationships between variables in a given dataset. These approaches are frequently used in market basket analysis and recommendation engines, such as \"Customers Who Bought This Item Also Bought\" suggestions\n",
    "* **Dimensionality reduction**, a learning approach used when the number of features (or dimensions) in a given dataset is too great. It reduces the number of data inputs to a tolerable amount while preserving data integrity. This method is commonly used in data preparation, such as when autoencoders remove noise from visual data to improve image quality\n"
   ]
  },
  {
   "cell_type": "markdown",
   "metadata": {
    "id": "vuiI5AGE0OG_"
   },
   "source": [
    "## Semi-supervised Machine Learning"
   ]
  },
  {
   "cell_type": "markdown",
   "metadata": {
    "id": "CwOJWgWD0XtT"
   },
   "source": [
    "> Semi-supervised learning, as the name implies, is a combination of the two previously mentioned methodologies, with the training dataset containing both labeled and unlabeled data. It's especially useful when extracting significant qualities from large amounts of data is difficult.\n",
    "\n",
    "Semi-supervised learning is appropriate for medical data since a small amount of training data may lead to significant accuracy gains. A radiologist, for example, may flag a tiny percentage of CT pictures for tumors or illnesses, allowing the computer to more precisely predict which individuals may require extra medical treatment.\n"
   ]
  },
  {
   "cell_type": "markdown",
   "metadata": {
    "id": "BMWImTjR0eUl"
   },
   "source": [
    "## Reinforcement Learning"
   ]
  },
  {
   "cell_type": "markdown",
   "metadata": {
    "id": "illl-Cn60iW3"
   },
   "source": [
    "> This approach works through a series of trial and error steps in which the system \"learns\" to excel at an activity over time.\n",
    "\n",
    "Reinforcement learning approaches employ an **iterative learning** strategy, getting positive or negative feedback depending on the performance of a given task on some data, whether prediction, classification, or another activity, and then self-adapting and performing the task on fresh data.\n",
    "\n",
    "Depending on how it is done, this methodology might be likened to supervised learning or a semi-supervised approach.\n",
    "\n",
    "Early \"exploratory\" versions of a model are commonly used to optimize the use of reinforcement learning approaches. In other words, multiple unsuccessful task attempts are required in the early phases to gather insights for later attempts to learn and perform better. This procedure is repeated until the system becomes increasingly efficient.\n",
    "\n",
    "This type of learning is suitable for medical and epidemiologic applications such as modeling the impact of sequential clinical treatment decisions on disease progression (for example, optimizing first- and second-line therapy decisions for schizophrenia management and personalized, adaptive medication dosing strategies).\n"
   ]
  },
  {
   "cell_type": "markdown",
   "metadata": {
    "id": "zWCsFuaU2INH"
   },
   "source": []
  }
 ],
 "metadata": {
  "colab": {
   "authorship_tag": "ABX9TyNpWtOezoBiJ2jl5lBr36e6",
   "provenance": []
  },
  "kernelspec": {
   "display_name": "Python 3 (ipykernel)",
   "language": "python",
   "name": "python3"
  },
  "language_info": {
   "codemirror_mode": {
    "name": "ipython",
    "version": 3
   },
   "file_extension": ".py",
   "mimetype": "text/x-python",
   "name": "python",
   "nbconvert_exporter": "python",
   "pygments_lexer": "ipython3",
   "version": "3.10.6"
  },
  "toc-autonumbering": true
 },
 "nbformat": 4,
 "nbformat_minor": 4
}
