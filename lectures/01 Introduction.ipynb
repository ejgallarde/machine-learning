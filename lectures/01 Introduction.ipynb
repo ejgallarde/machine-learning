{
 "cells": [
  {
   "cell_type": "markdown",
   "metadata": {
    "id": "nqpbpwkIVFyQ"
   },
   "source": [
    "# Module 1 - Introduction to Machine Learning"
   ]
  },
  {
   "cell_type": "markdown",
   "metadata": {
    "id": "qgw5RJIoVaX5"
   },
   "source": [
    "## What is Machine Learning (ML)?"
   ]
  },
  {
   "cell_type": "markdown",
   "metadata": {
    "id": "UEUSHbk0VlT2"
   },
   "source": [
    "\n",
    "\n",
    "*   A subclass of **Artificial Intelligence (AI)** that contains advanced statistical techniques that allow machines to learn by increasing performance through experience without being expressly programmed to do so\n",
    "\n",
    "* There are other forms of **ML**, such as **machine learning**, **supervised learning**, **unsupervised learning**, and **reward ('reinforcement') learning**, which will be discussed more in the following chapters\n",
    "\n",
    "* In other words, **Machine Learning** is an **artificial intelligence** application in which a computer/machine learns from previous experiences (input data) and predicts future outputs. Such a system's performance should be at least human-level\n",
    "\n"
   ]
  },
  {
   "cell_type": "markdown",
   "metadata": {
    "id": "7xHGkkQtVyWy"
   },
   "source": [
    "## Limitations of Traditional Programming"
   ]
  },
  {
   "cell_type": "markdown",
   "metadata": {
    "id": "F53ME4swV_xT"
   },
   "source": [
    "> Traditional computer programming has been established for almost a century, with the oldest known computer program dating back to the mid-nineteenth century. Traditional programming is any manually written program that takes input data and runs on a computer to generate output.\n",
    "\n",
    "> Traditional programming is a manual procedure, which means that the software is created by a human (a programmer). However, without anybody programming the logic, rules must be manually formulated or coded . In **machine learning**, on the other hand, the algorithm generates the rules automatically from the data.\n",
    "\n",
    "> **Machine learning**, unlike traditional programming, is a fully automated process. It may boost the value of your embedded analytics in a variety of ways, including data preparation, natural language interfaces, automatic outlier discovery, recommendations, and causality and significance recognition. All of these features help speed user insights and reduce decision bias. <br>\n",
    "\n",
    "> However, **Machine Learning** is not suited to solve every single problem. There are problems that traditional programming is well suited for that ML would not solve."
   ]
  },
  {
   "cell_type": "markdown",
   "metadata": {
    "id": "CbUKZlbnWSBf"
   },
   "source": [
    "**Machine Learning** is **appropriate** for the following issues:\n",
    "\n",
    "* Very straightforward and simple to express issues. These include yes or no questions (for example, is email spam or not), or predicting a single variable \n",
    "* Issues that Traditional programming cannot tackle such as facial recognition algorithms or sentiment analysis.\n",
    "* Deep and resonant forms of intelligence. This is frequently seen in computer vision (CV) and language processing. Machine Learning (particularly, neural networks) has demonstrated promise in object identification and detection, speech synthesis, machine translation, and other areas. These jobs are almost impossible to hard code, hence ML is the fitting solution\n"
   ]
  },
  {
   "cell_type": "markdown",
   "metadata": {
    "id": "zTUwHwZCXWcg"
   },
   "source": [
    "However, **Machine Learning** is **not suitable** for projects:\n",
    "\n",
    "* Which are expected to change the world in a matter of hours\n",
    "* Which are expected to change the world without good data\n",
    "* Which can be solved easily with traditional programming\n",
    "* Whose patterns are very clear and constant\n"
   ]
  },
  {
   "cell_type": "markdown",
   "metadata": {
    "id": "cUgxxutZXowU"
   },
   "source": [
    "## Machine Learning - Subset of Artificial Intelligence (AI)"
   ]
  },
  {
   "cell_type": "markdown",
   "metadata": {
    "id": "pMPBYOKXYRoY"
   },
   "source": [
    "*If a conversation with a device is indistinguishable from a similar conversation with a human being, then the device can be called intelligent.\" - (Alan Turing)*\n",
    "\n",
    "*It is the science and engineering of making intelligent machines, especially intelligent computer programs. It is related to the similar task of using computers to understand human intelligence, but AI does not have to confine itself to methods that are biologically observable.\" - (John McCarthy)*\n",
    "\n",
    "> **Artificial Intelligence** - Any technique that allows computers to imitate human intelligence.\n",
    "\n",
    "> In its most basic form, **artificial intelligence** is a subject that combines computer science and large datasets to solve problems. It also includes the subfields of machine learning and deep learning, which are commonly referenced in the context of **artificial intelligence**. AI algorithms are used in these areas to develop expert systems that make predictions or classifications based on input data.\n"
   ]
  },
  {
   "cell_type": "markdown",
   "metadata": {
    "id": "ENKlPjASYo5d"
   },
   "source": [
    "AI systems have various real-world applications nowadays. Some of the more popular instances are as follows:\n",
    "\n",
    "* **Speech Recognition** - a skill that employs natural **language processing (NLP)** to convert human speech into a written format. It is also known as **automated speech recognition (ASR)**, computer speech recognition, or speech-to-text. Many mobile devices include speech recognition into their systems to do voice searches (e.g., Siri) or to improve texting accessibility.\n",
    "* **Client Service** -  Throughout the customer experience, online virtual agents are replacing human representatives. They respond to commonly asked questions (FAQs) regarding issues such as shipping or give individualized advice, such as cross-selling items or recommending sizes for users, altering the way we think about client involvement across websites and social media platforms.\n",
    "* **Computer Vision** -  AI technique that allows computers and systems to derive meaningful information from digital photos, videos, and other visual inputs, and then act on that knowledge. This capacity to provide suggestions sets it apart from picture recognition jobs. Computer vision, which is powered by convolutional neural networks, has applications in photo tagging in social media, radiological imaging in healthcare, and self-driving automobiles in the automotive sector.\n",
    "* **Engines of Recommendation** -  AI algorithms can aid in the discovery of data trends that can be utilized to generate more successful cross-selling tactics by utilizing historical consumption behavior data. This is used by online businesses to give appropriate add-on recommendations to customers throughout the checkout process.\n",
    "* **Stock Trading Automations** - AI-driven high-frequency trading platforms, designed to optimize stock portfolios, execute hundreds or even millions of deals each day without human interaction.\n"
   ]
  },
  {
   "cell_type": "markdown",
   "metadata": {
    "id": "wH07KtOjYyuU"
   },
   "source": [
    "## Deep Learning - Subset of Machine Learning (ML)\n"
   ]
  },
  {
   "cell_type": "markdown",
   "metadata": {
    "id": "o9dhDOwBZmlC"
   },
   "source": [
    "> Because **deep learning** and **machine learning** are often used interchangeably, it's important to understand the differences between the two. As previously stated, **deep learning** and **machine learning** are both subfields of **artificial intelligence**, with **deep learning** being a **subfield of machine learning**.\n",
    "\n",
    "> **Deep Learning** - A subset of ML composed of algorithms that allow programs to train themselves to perform tasks (such as speech and image recognition). Inspired by the brain, deep learning works by training **artificial neural networks** with multi-layered neural networks on large amounts of data.\n",
    "\n",
    "> Deep learning algorithms may be defined as neural networks with more than three layers (including inputs and outputs).\n",
    "\n",
    "> The difference between deep learning and machine learning is in how each algorithm learns. Deep learning automates most of the feature extraction process, removing some of the manual human interaction and allowing for the use of larger data sets.\n",
    "\n",
    "> Deep learning may be thought of as **\"scalable machine learning”** (Lex Friedman). Classical, or \"non-deep,\" machine learning requires more human assistance to learn. Human specialists determine the feature hierarchy to grasp the distinctions between data inputs, which normally need more structured data to learn.\n",
    "\n",
    "> Labeled datasets, also known as **supervised learning**, can be used to inform \"deep\" machine learning algorithms, but they are not required. It can read unstructured data in its raw form (e.g., text, photos) and automatically establish the hierarchy of characteristics that distinguishes different types of data. It does not require human assistance to process data, unlike machine learning.\n"
   ]
  },
  {
   "cell_type": "markdown",
   "metadata": {
    "id": "i2MVE9J7aTp-"
   },
   "source": []
  }
 ],
 "metadata": {
  "colab": {
   "authorship_tag": "ABX9TyMNgJFsaWpHm6VBgo1/m6fV",
   "provenance": []
  },
  "kernelspec": {
   "display_name": "Python 3 (ipykernel)",
   "language": "python",
   "name": "python3"
  },
  "language_info": {
   "codemirror_mode": {
    "name": "ipython",
    "version": 3
   },
   "file_extension": ".py",
   "mimetype": "text/x-python",
   "name": "python",
   "nbconvert_exporter": "python",
   "pygments_lexer": "ipython3",
   "version": "3.10.6"
  }
 },
 "nbformat": 4,
 "nbformat_minor": 4
}
